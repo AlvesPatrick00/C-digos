{
 "cells": [
  {
   "cell_type": "code",
   "execution_count": 1,
   "id": "c609ef73",
   "metadata": {},
   "outputs": [],
   "source": [
    "import numpy_financial as npf"
   ]
  },
  {
   "cell_type": "code",
   "execution_count": 18,
   "id": "19addb07",
   "metadata": {},
   "outputs": [
    {
     "data": {
      "text/plain": [
       "3326.6666666666665"
      ]
     },
     "execution_count": 18,
     "metadata": {},
     "output_type": "execute_result"
    }
   ],
   "source": [
    "rate = 0,2\n",
    " = 2000\n",
    "pmt = -300\n",
    "fv = 1e6\n",
    "\n",
    "npf.nper(rate, pmt, pv, fv, when = 'end')"
   ]
  }
 ],
 "metadata": {
  "kernelspec": {
   "display_name": "Python 3",
   "language": "python",
   "name": "python3"
  },
  "language_info": {
   "codemirror_mode": {
    "name": "ipython",
    "version": 3
   },
   "file_extension": ".py",
   "mimetype": "text/x-python",
   "name": "python",
   "nbconvert_exporter": "python",
   "pygments_lexer": "ipython3",
   "version": "3.8.8"
  }
 },
 "nbformat": 4,
 "nbformat_minor": 5
}
